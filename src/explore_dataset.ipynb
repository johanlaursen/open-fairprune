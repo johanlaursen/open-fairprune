{
 "cells": [
  {
   "cell_type": "code",
   "execution_count": 4,
   "metadata": {},
   "outputs": [],
   "source": [
    "import pandas as pd\n",
    "import math\n",
    "from open_fairprune.data_util import DATA_PATH"
   ]
  },
  {
   "cell_type": "code",
   "execution_count": 5,
   "metadata": {},
   "outputs": [],
   "source": [
    "def age_to_binary(age):\n",
    "    try:\n",
    "        if math.isnan(float(age)):\n",
    "            return \"NaN\"\n",
    "        if int(age) <= 10950:\n",
    "            return 'young'\n",
    "        else:\n",
    "            return 'old'\n",
    "    except:\n",
    "        return 'NaN'"
   ]
  },
  {
   "cell_type": "code",
   "execution_count": 6,
   "metadata": {},
   "outputs": [],
   "source": [
    "df = pd.read_csv(DATA_PATH / \"Train_Dataset.csv\", low_memory=False)\n",
    "splits = {\n",
    "    \"train\": df.ID % 7 <= 4,\n",
    "    \"dev\": df.ID % 7 == 5,\n",
    "    \"test\": df.ID % 7 == 6,  # Around 15%\n",
    "}\n",
    "df = df[splits['train']]\n",
    "df['Gender_Marital'] = df['Client_Gender'] + ' ' + df['Client_Marital_Status']\n",
    "df[\"Age\"] = df[\"Age_Days\"].apply(age_to_binary)\n"
   ]
  },
  {
   "cell_type": "code",
   "execution_count": 7,
   "metadata": {},
   "outputs": [
    {
     "data": {
      "text/plain": [
       "0.0807920824579832"
      ]
     },
     "execution_count": 7,
     "metadata": {},
     "output_type": "execute_result"
    }
   ],
   "source": [
    "df[\"Default\"].value_counts()\n",
    "9845/(9845+112011)"
   ]
  },
  {
   "cell_type": "code",
   "execution_count": 8,
   "metadata": {},
   "outputs": [
    {
     "name": "stdout",
     "output_type": "stream",
     "text": [
      "Own_House_Age                 0.656974\n",
      "Score_Source_1                0.564028\n",
      "Social_Circle_Default         0.507732\n",
      "Client_Occupation             0.339361\n",
      "Score_Source_3                0.221002\n",
      "Credit_Bureau                 0.152780\n",
      "ID_Days                       0.048966\n",
      "Gender_Marital                0.047208\n",
      "Score_Source_2                0.046680\n",
      "Population_Region_Relative    0.039867\n",
      "Loan_Annuity                  0.039189\n",
      "Employed_Days                 0.030365\n",
      "House_Own                     0.030216\n",
      "Client_Income_Type            0.030078\n",
      "Client_Housing_Type           0.029998\n",
      "Credit_Amount                 0.029998\n",
      "Child_Count                   0.029963\n",
      "Bike_Owned                    0.029963\n",
      "Phone_Change                  0.029952\n",
      "Loan_Contract_Type            0.029929\n",
      "Active_Loan                   0.029917\n",
      "Age_Days                      0.029917\n",
      "Application_Process_Hour      0.029894\n",
      "Registration_Days             0.029825\n",
      "Client_Income                 0.029699\n",
      "Client_Education              0.029676\n",
      "Type_Organization             0.029308\n",
      "Car_Owned                     0.029274\n",
      "Client_Marital_Status         0.028171\n",
      "Client_Family_Members         0.019830\n",
      "Cleint_City_Rating            0.019692\n",
      "Application_Process_Day       0.019681\n",
      "Client_Gender                 0.019589\n",
      "Accompany_Client              0.014522\n",
      "Default                       0.000000\n",
      "ID                            0.000000\n",
      "Client_Contact_Work_Tag       0.000000\n",
      "Client_Permanent_Match_Tag    0.000000\n",
      "Workphone_Working             0.000000\n",
      "Homephone_Tag                 0.000000\n",
      "Mobile_Tag                    0.000000\n",
      "Age                           0.000000\n",
      "dtype: float64\n"
     ]
    }
   ],
   "source": [
    "print((df.isnull().sum() / len(df)).sort_values(ascending=False))"
   ]
  },
  {
   "cell_type": "code",
   "execution_count": 9,
   "metadata": {},
   "outputs": [
    {
     "name": "stdout",
     "output_type": "stream",
     "text": [
      "Default                       0         1\n",
      "Client_Marital_Status                    \n",
      "D                      0.921455  0.078545\n",
      "M                      0.920602  0.079398\n",
      "S                      0.904174  0.095826\n",
      "W                      0.935521  0.064479\n",
      "Client_Marital_Status\n",
      "M    62483\n",
      "S    12387\n",
      "D     5360\n",
      "W     4358\n",
      "Name: count, dtype: int64\n"
     ]
    }
   ],
   "source": [
    "cross_tab = pd.crosstab(df[\"Client_Marital_Status\"], df[\"Default\"])\n",
    "ratios_matrix = cross_tab.apply(lambda r: r/r.sum(), axis=1)\n",
    "print(ratios_matrix)\n",
    "print(df[\"Client_Marital_Status\"].value_counts())"
   ]
  },
  {
   "cell_type": "code",
   "execution_count": 10,
   "metadata": {},
   "outputs": [
    {
     "name": "stdout",
     "output_type": "stream",
     "text": [
      "Default               0         1\n",
      "Client_Gender                    \n",
      "Female         0.899156  0.100844\n",
      "Male           0.929552  0.070448\n",
      "XNA            1.000000  0.000000\n",
      "Client_Gender\n",
      "Male      56070\n",
      "Female    29263\n",
      "XNA           2\n",
      "Name: count, dtype: int64\n"
     ]
    }
   ],
   "source": [
    "cross_tab = pd.crosstab(df[\"Client_Gender\"], df[\"Default\"])\n",
    "ratios_matrix = cross_tab.apply(lambda r: r/r.sum(), axis=1)\n",
    "print(ratios_matrix)\n",
    "print(df[\"Client_Gender\"].value_counts())"
   ]
  },
  {
   "cell_type": "code",
   "execution_count": 11,
   "metadata": {},
   "outputs": [
    {
     "data": {
      "text/html": [
       "<div>\n",
       "<style scoped>\n",
       "    .dataframe tbody tr th:only-of-type {\n",
       "        vertical-align: middle;\n",
       "    }\n",
       "\n",
       "    .dataframe tbody tr th {\n",
       "        vertical-align: top;\n",
       "    }\n",
       "\n",
       "    .dataframe thead th {\n",
       "        text-align: right;\n",
       "    }\n",
       "</style>\n",
       "<table border=\"1\" class=\"dataframe\">\n",
       "  <thead>\n",
       "    <tr style=\"text-align: right;\">\n",
       "      <th>Default</th>\n",
       "      <th>0</th>\n",
       "      <th>1</th>\n",
       "    </tr>\n",
       "    <tr>\n",
       "      <th>Client_Gender</th>\n",
       "      <th></th>\n",
       "      <th></th>\n",
       "    </tr>\n",
       "  </thead>\n",
       "  <tbody>\n",
       "    <tr>\n",
       "      <th>Female</th>\n",
       "      <td>0.899156</td>\n",
       "      <td>0.100844</td>\n",
       "    </tr>\n",
       "    <tr>\n",
       "      <th>Male</th>\n",
       "      <td>0.929552</td>\n",
       "      <td>0.070448</td>\n",
       "    </tr>\n",
       "    <tr>\n",
       "      <th>XNA</th>\n",
       "      <td>1.000000</td>\n",
       "      <td>0.000000</td>\n",
       "    </tr>\n",
       "  </tbody>\n",
       "</table>\n",
       "</div>"
      ],
      "text/plain": [
       "Default               0         1\n",
       "Client_Gender                    \n",
       "Female         0.899156  0.100844\n",
       "Male           0.929552  0.070448\n",
       "XNA            1.000000  0.000000"
      ]
     },
     "execution_count": 11,
     "metadata": {},
     "output_type": "execute_result"
    }
   ],
   "source": [
    "cross_tab = pd.crosstab(df[\"Client_Gender\"], df[\"Default\"])\n",
    "ratios_matrix = cross_tab.apply(lambda r: r/r.sum(), axis=1)\n",
    "ratios_matrix"
   ]
  },
  {
   "cell_type": "code",
   "execution_count": null,
   "metadata": {},
   "outputs": [],
   "source": []
  },
  {
   "cell_type": "code",
   "execution_count": 12,
   "metadata": {},
   "outputs": [
    {
     "name": "stdout",
     "output_type": "stream",
     "text": [
      "Default         0         1\n",
      "Age                        \n",
      "NaN      0.919602  0.080398\n",
      "old      0.924469  0.075531\n",
      "young    0.888898  0.111102\n",
      "Age\n",
      "old      71944\n",
      "young    12484\n",
      "NaN       2612\n",
      "Name: count, dtype: int64\n"
     ]
    }
   ],
   "source": [
    "cross_tab = pd.crosstab(df[\"Age\"], df[\"Default\"])\n",
    "ratios_matrix = cross_tab.apply(lambda r: r/r.sum(), axis=1)\n",
    "print(ratios_matrix)\n",
    "print(df[\"Age\"].value_counts())\n",
    "\n"
   ]
  },
  {
   "cell_type": "code",
   "execution_count": 13,
   "metadata": {},
   "outputs": [
    {
     "name": "stdout",
     "output_type": "stream",
     "text": [
      "Default                0         1\n",
      "Gender_Marital                    \n",
      "Female D        0.876182  0.123818\n",
      "Female M        0.906807  0.093193\n",
      "Female S        0.868054  0.131946\n",
      "Female W        0.866667  0.133333\n",
      "Male D          0.934947  0.065053\n",
      "Male M          0.928616  0.071384\n",
      "Male S          0.924304  0.075696\n",
      "Male W          0.939484  0.060516\n",
      "XNA M           1.000000  0.000000\n",
      "Gender_Marital\n",
      "Male M      38720\n",
      "Female M    22534\n",
      "Male S       7649\n",
      "Female S     4517\n",
      "Male D       4089\n",
      "Male W       4032\n",
      "Female D     1163\n",
      "Female W      225\n",
      "XNA M           2\n",
      "Name: count, dtype: int64\n"
     ]
    }
   ],
   "source": [
    "cross_tab = pd.crosstab(df[\"Gender_Marital\"], df[\"Default\"])\n",
    "ratios_matrix = cross_tab.apply(lambda r: r/r.sum(), axis=1)\n",
    "print(ratios_matrix)\n",
    "print(df[\"Gender_Marital\"].value_counts())"
   ]
  }
 ],
 "metadata": {
  "kernelspec": {
   "display_name": "fairprune",
   "language": "python",
   "name": "python3"
  },
  "language_info": {
   "codemirror_mode": {
    "name": "ipython",
    "version": 3
   },
   "file_extension": ".py",
   "mimetype": "text/x-python",
   "name": "python",
   "nbconvert_exporter": "python",
   "pygments_lexer": "ipython3",
   "version": "3.10.11"
  },
  "orig_nbformat": 4
 },
 "nbformat": 4,
 "nbformat_minor": 2
}
