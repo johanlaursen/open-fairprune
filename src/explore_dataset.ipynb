{
 "cells": [
  {
   "cell_type": "code",
   "execution_count": 8,
   "metadata": {},
   "outputs": [],
   "source": [
    "import pandas as pd\n",
    "import math\n",
    "\n"
   ]
  },
  {
   "cell_type": "code",
   "execution_count": 9,
   "metadata": {},
   "outputs": [],
   "source": [
    "def age_to_binary(age):\n",
    "    try:\n",
    "        if math.isnan(float(age)):\n",
    "            return \"NaN\"\n",
    "        if int(age) <= 10950:\n",
    "            return 'young'\n",
    "        else:\n",
    "            return 'old'\n",
    "    except:\n",
    "        return 'NaN'"
   ]
  },
  {
   "cell_type": "code",
   "execution_count": 10,
   "metadata": {},
   "outputs": [
    {
     "name": "stderr",
     "output_type": "stream",
     "text": [
      "C:\\Users\\Johan\\AppData\\Local\\Temp\\ipykernel_16016\\4163830529.py:1: DtypeWarning: Columns (1,7,8,16,17,18,19,20,35) have mixed types. Specify dtype option on import or set low_memory=False.\n",
      "  df = pd.read_csv(\"../data/Train_Dataset.csv\")\n"
     ]
    }
   ],
   "source": [
    "df = pd.read_csv(\"../data/Train_Dataset.csv\")\n",
    "df['Gender_Marital'] = df['Client_Gender'] + ' ' + df['Client_Marital_Status']\n",
    "df[\"Age\"] = df[\"Age_Days\"].apply(age_to_binary)\n"
   ]
  },
  {
   "cell_type": "code",
   "execution_count": 16,
   "metadata": {},
   "outputs": [
    {
     "data": {
      "text/plain": [
       "0.0807920824579832"
      ]
     },
     "execution_count": 16,
     "metadata": {},
     "output_type": "execute_result"
    }
   ],
   "source": [
    "df[\"Default\"].value_counts()\n",
    "9845/(9845+112011)"
   ]
  },
  {
   "cell_type": "code",
   "execution_count": null,
   "metadata": {},
   "outputs": [],
   "source": []
  },
  {
   "cell_type": "code",
   "execution_count": 19,
   "metadata": {},
   "outputs": [
    {
     "name": "stdout",
     "output_type": "stream",
     "text": [
      "Default                       0         1\n",
      "Client_Marital_Status                    \n",
      "D                      0.922710  0.077290\n",
      "M                      0.920926  0.079074\n",
      "S                      0.903011  0.096989\n",
      "W                      0.935463  0.064537\n",
      "Client_Marital_Status\n",
      "M    87349\n",
      "S    17404\n",
      "D     7556\n",
      "W     6074\n",
      "Name: count, dtype: int64\n"
     ]
    }
   ],
   "source": [
    "cross_tab = pd.crosstab(df[\"Client_Marital_Status\"], df[\"Default\"])\n",
    "ratios_matrix = cross_tab.apply(lambda r: r/r.sum(), axis=1)\n",
    "print(ratios_matrix)\n",
    "print(df[\"Client_Marital_Status\"].value_counts())"
   ]
  },
  {
   "cell_type": "code",
   "execution_count": 18,
   "metadata": {},
   "outputs": [
    {
     "name": "stdout",
     "output_type": "stream",
     "text": [
      "Default               0         1\n",
      "Client_Gender                    \n",
      "Female         0.899846  0.100154\n",
      "Male           0.929330  0.070670\n",
      "XNA            1.000000  0.000000\n",
      "Client_Gender\n",
      "Male      78463\n",
      "Female    40977\n",
      "XNA           3\n",
      "Name: count, dtype: int64\n"
     ]
    }
   ],
   "source": [
    "cross_tab = pd.crosstab(df[\"Client_Gender\"], df[\"Default\"])\n",
    "ratios_matrix = cross_tab.apply(lambda r: r/r.sum(), axis=1)\n",
    "print(ratios_matrix)\n",
    "print(df[\"Client_Gender\"].value_counts())"
   ]
  },
  {
   "cell_type": "code",
   "execution_count": 8,
   "metadata": {},
   "outputs": [
    {
     "data": {
      "text/plain": [
       "0.9293297477792081"
      ]
     },
     "execution_count": 8,
     "metadata": {},
     "output_type": "execute_result"
    }
   ],
   "source": [
    "cross_tab = pd.crosstab(df[\"Client_Gender\"], df[\"Default\"])\n",
    "ratios_matrix = cross_tab.apply(lambda r: r/r.sum(), axis=1)\n",
    "ratios_matrix"
   ]
  },
  {
   "cell_type": "code",
   "execution_count": null,
   "metadata": {},
   "outputs": [],
   "source": []
  },
  {
   "cell_type": "code",
   "execution_count": 21,
   "metadata": {},
   "outputs": [
    {
     "name": "stdout",
     "output_type": "stream",
     "text": [
      "Default         0         1\n",
      "Age                        \n",
      "NaN      0.919547  0.080453\n",
      "old      0.924359  0.075641\n",
      "young    0.889404  0.110596\n",
      "Age\n",
      "old      100779\n",
      "young     17460\n",
      "NaN        3617\n",
      "Name: count, dtype: int64\n"
     ]
    }
   ],
   "source": [
    "cross_tab = pd.crosstab(df[\"Age\"], df[\"Default\"])\n",
    "ratios_matrix = cross_tab.apply(lambda r: r/r.sum(), axis=1)\n",
    "print(ratios_matrix)\n",
    "print(df[\"Age\"].value_counts())\n",
    "\n"
   ]
  },
  {
   "cell_type": "code",
   "execution_count": 20,
   "metadata": {},
   "outputs": [
    {
     "name": "stdout",
     "output_type": "stream",
     "text": [
      "Default                0         1\n",
      "Gender_Marital                    \n",
      "Female D        0.875235  0.124765\n",
      "Female M        0.907760  0.092240\n",
      "Female S        0.867960  0.132040\n",
      "Female W        0.876161  0.123839\n",
      "Male D          0.935961  0.064039\n",
      "Male M          0.928824  0.071176\n",
      "Male S          0.923005  0.076995\n",
      "Male W          0.938757  0.061243\n",
      "XNA M           1.000000  0.000000\n",
      "Gender_Marital\n",
      "Male M      54105\n",
      "Female M    31494\n",
      "Male S      10702\n",
      "Female S     6392\n",
      "Male D       5809\n",
      "Male W       5617\n",
      "Female D     1595\n",
      "Female W      323\n",
      "XNA M           3\n",
      "Name: count, dtype: int64\n"
     ]
    }
   ],
   "source": [
    "cross_tab = pd.crosstab(df[\"Gender_Marital\"], df[\"Default\"])\n",
    "ratios_matrix = cross_tab.apply(lambda r: r/r.sum(), axis=1)\n",
    "print(ratios_matrix)\n",
    "print(df[\"Gender_Marital\"].value_counts())"
   ]
  }
 ],
 "metadata": {
  "kernelspec": {
   "display_name": "fairprune",
   "language": "python",
   "name": "python3"
  },
  "language_info": {
   "codemirror_mode": {
    "name": "ipython",
    "version": 3
   },
   "file_extension": ".py",
   "mimetype": "text/x-python",
   "name": "python",
   "nbconvert_exporter": "python",
   "pygments_lexer": "ipython3",
   "version": "3.10.10"
  },
  "orig_nbformat": 4
 },
 "nbformat": 4,
 "nbformat_minor": 2
}
